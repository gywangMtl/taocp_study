{
 "cells": [
  {
   "cell_type": "code",
   "execution_count": 26,
   "id": "1b57a19c",
   "metadata": {},
   "outputs": [
    {
     "name": "stdout",
     "output_type": "stream",
     "text": [
      "True\n",
      "True\n",
      "True\n"
     ]
    }
   ],
   "source": [
    "def compare(die1, die2, threshold=0.5):\n",
    "    greater = 0\n",
    "    for i in die1:\n",
    "        for j in die2:\n",
    "            if i > j:\n",
    "                greater += 1\n",
    "    if (greater / (len(die1) * len(die2)) > threshold):\n",
    "        #print(greater / (len(die1) * len(die2)))\n",
    "        return True\n",
    "    \n",
    "\n",
    "die3 = [2, 5, 5, 5, 5, 5]\n",
    "die1 = [1, 4, 4, 4, 7, 7]\n",
    "die2 = [3, 3, 3, 6, 6, 6]\n",
    "print(compare(die1, die2, 5/9.0))\n",
    "print(compare(die2, die3, 5/9))\n",
    "print(compare(die3, die1, 5/9))\n"
   ]
  },
  {
   "cell_type": "code",
   "execution_count": 28,
   "id": "f327adb4",
   "metadata": {},
   "outputs": [
    {
     "name": "stdout",
     "output_type": "stream",
     "text": [
      "462\n"
     ]
    }
   ],
   "source": [
    "all_dice = []\n",
    "\n",
    "fist_die  = [1,1,1,1,1,1]\n",
    "all_dice.append(fist_die)\n",
    "\n",
    "def next_die(die):\n",
    "    new_die = die.copy()\n",
    "    index_to_increase = 5\n",
    "    while True:\n",
    "        new_die[index_to_increase] += 1\n",
    "        if new_die[index_to_increase] < 7:\n",
    "            for i in range(index_to_increase + 1, 6):\n",
    "                new_die[i] = new_die[index_to_increase]\n",
    "            return new_die\n",
    "        else:\n",
    "            index_to_increase -= 1\n",
    "        if index_to_increase < 0:\n",
    "            return None\n",
    "\n",
    "last_die = fist_die\n",
    "while True:\n",
    "    last_die = next_die(last_die)\n",
    "    if last_die is None:\n",
    "        break\n",
    "    all_dice.append(last_die)\n",
    "\n",
    "print(len(all_dice))"
   ]
  },
  {
   "cell_type": "code",
   "execution_count": 29,
   "id": "4fad4a5c",
   "metadata": {},
   "outputs": [
    {
     "name": "stdout",
     "output_type": "stream",
     "text": [
      "Nontransitive pair found:\n",
      "[1, 4, 4, 4, 4, 4]\n",
      "[3, 3, 3, 3, 3, 6]\n",
      "[2, 2, 2, 5, 5, 5]\n",
      "Nontransitive pair found:\n",
      "[2, 2, 2, 5, 5, 5]\n",
      "[1, 4, 4, 4, 4, 4]\n",
      "[3, 3, 3, 3, 3, 6]\n",
      "Nontransitive pair found:\n",
      "[3, 3, 3, 3, 3, 6]\n",
      "[2, 2, 2, 5, 5, 5]\n",
      "[1, 4, 4, 4, 4, 4]\n"
     ]
    }
   ],
   "source": [
    "#print(all_dice[461])\n",
    "threshold = 5/9.0\n",
    "total =  len(all_dice)\n",
    "for i in range(total):\n",
    "    die1 = all_dice[i]\n",
    "    for j in range(total):\n",
    "        if j == i:\n",
    "            continue\n",
    "        die2 = all_dice[j]\n",
    "        if not compare(die1, die2, threshold):\n",
    "            continue\n",
    "        for k in range(total):\n",
    "            if k == i or k == j:\n",
    "                continue\n",
    "            die3 = all_dice[k]\n",
    "            if compare(die2, die3, threshold) and compare(die3, die1, threshold):\n",
    "                print(\"Nontransitive pair found:\")\n",
    "                print(all_dice[i])\n",
    "                print(all_dice[j])\n",
    "                print(all_dice[k])\n",
    "                break"
   ]
  },
  {
   "cell_type": "code",
   "execution_count": null,
   "id": "4244fe33",
   "metadata": {},
   "outputs": [],
   "source": []
  }
 ],
 "metadata": {
  "kernelspec": {
   "display_name": "Python 3",
   "language": "python",
   "name": "python3"
  },
  "language_info": {
   "codemirror_mode": {
    "name": "ipython",
    "version": 3
   },
   "file_extension": ".py",
   "mimetype": "text/x-python",
   "name": "python",
   "nbconvert_exporter": "python",
   "pygments_lexer": "ipython3",
   "version": "3.13.3"
  }
 },
 "nbformat": 4,
 "nbformat_minor": 5
}
