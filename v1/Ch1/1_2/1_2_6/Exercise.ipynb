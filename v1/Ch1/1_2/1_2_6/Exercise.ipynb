{
 "cells": [
  {
   "cell_type": "markdown",
   "id": "55daede8-33ae-42b4-8489-afc079edd1de",
   "metadata": {},
   "source": [
    "5. Use Pascal's triangle to explain the fact that $11^4=14641$"
   ]
  },
  {
   "cell_type": "markdown",
   "id": "d62adcec-581f-4a0d-9dba-059dadc166d2",
   "metadata": {},
   "source": [
    "Ans: $11^4=(10+1)^4 = (\\binom{4}{0}10^4 +\\binom{4}{1}10^3+\\binom{4}{2}10^2+\\binom{4}{3}10^1+\\binom{4}{4})$ because $\\binom{4}{i} \\le 9 $ for all $0 \\le i \\le 4$ so every digit of the result is the same as in line 4 of Pascal's triangle."
   ]
  },
  {
   "cell_type": "code",
   "execution_count": null,
   "id": "b7bc38eb-c244-49b0-bdd5-e3eee193a6cc",
   "metadata": {},
   "outputs": [],
   "source": []
  }
 ],
 "metadata": {
  "kernelspec": {
   "display_name": "Python 3 (ipykernel)",
   "language": "python",
   "name": "python3"
  },
  "language_info": {
   "codemirror_mode": {
    "name": "ipython",
    "version": 3
   },
   "file_extension": ".py",
   "mimetype": "text/x-python",
   "name": "python",
   "nbconvert_exporter": "python",
   "pygments_lexer": "ipython3",
   "version": "3.13.3"
  }
 },
 "nbformat": 4,
 "nbformat_minor": 5
}
