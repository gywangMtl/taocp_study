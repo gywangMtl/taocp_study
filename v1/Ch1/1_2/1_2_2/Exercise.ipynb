{
 "cells": [
  {
   "cell_type": "markdown",
   "id": "5072fff9-3e9d-4949-b88a-593d75290956",
   "metadata": {},
   "source": [
    "3: What is $(-3)^{-3}$\n",
    "\n",
    "Ans:\n",
    "\n",
    "\n",
    "$(-3)^{-3} = \\frac {1}{(-3)^3} =- \\frac {1}{27}$"
   ]
  },
  {
   "cell_type": "markdown",
   "id": "adbc341d-23d0-42c8-b597-051e06fc58d7",
   "metadata": {},
   "source": [
    "4: what is $ (0.125)^{- \\frac{2}{3}} $"
   ]
  },
  {
   "cell_type": "code",
   "execution_count": 1,
   "id": "cd331b24-9aa9-44c7-b4b0-49559f232663",
   "metadata": {},
   "outputs": [
    {
     "name": "stdout",
     "output_type": "stream",
     "text": [
      "3.9999999999999996\n"
     ]
    }
   ],
   "source": [
    "print(0.125**(-2/3))"
   ]
  },
  {
   "cell_type": "markdown",
   "id": "b31e8a3d-e866-464c-ba06-168f22178c6f",
   "metadata": {},
   "source": [
    " or $ (0.125)^{- \\frac{2}{3}} = \\frac{1}{\\frac{1}{8}^\\frac{2}{3}}  = 8 ^\\frac{2}{3} = 2^2 =4$"
   ]
  },
  {
   "cell_type": "code",
   "execution_count": null,
   "id": "d10f2391-35e0-47f0-984c-c90b5e4f626c",
   "metadata": {},
   "outputs": [],
   "source": []
  }
 ],
 "metadata": {
  "kernelspec": {
   "display_name": "Python 3 (ipykernel)",
   "language": "python",
   "name": "python3"
  },
  "language_info": {
   "codemirror_mode": {
    "name": "ipython",
    "version": 3
   },
   "file_extension": ".py",
   "mimetype": "text/x-python",
   "name": "python",
   "nbconvert_exporter": "python",
   "pygments_lexer": "ipython3",
   "version": "3.13.3"
  }
 },
 "nbformat": 4,
 "nbformat_minor": 5
}
