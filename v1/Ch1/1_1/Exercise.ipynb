{
 "cells": [
  {
   "cell_type": "markdown",
   "id": "28624717",
   "metadata": {},
   "source": [
    "4. What is the greatest common divisor of 2166 and 6099"
   ]
  },
  {
   "cell_type": "code",
   "execution_count": 1,
   "id": "ccd498c6",
   "metadata": {},
   "outputs": [
    {
     "name": "stdout",
     "output_type": "stream",
     "text": [
      "a = 2166\t b = 6099\n",
      "a = 6099\t b = 2166\n",
      "a = 2166\t b = 1767\n",
      "a = 1767\t b = 399\n",
      "a = 399\t b = 171\n",
      "a = 171\t b = 57\n",
      "57\n"
     ]
    }
   ],
   "source": [
    "def gcd(a, b):\n",
    "    print(f\"a = {a}\\t b = {b}\")\n",
    "    if (a % b) == 0:\n",
    "        return b\n",
    "    return gcd(b, (a %b))\n",
    "print (gcd(2166, 6099))"
   ]
  },
  {
   "cell_type": "code",
   "execution_count": null,
   "id": "46d21d3e",
   "metadata": {},
   "outputs": [],
   "source": []
  }
 ],
 "metadata": {
  "kernelspec": {
   "display_name": "Python 3 (ipykernel)",
   "language": "python",
   "name": "python3"
  },
  "language_info": {
   "codemirror_mode": {
    "name": "ipython",
    "version": 3
   },
   "file_extension": ".py",
   "mimetype": "text/x-python",
   "name": "python",
   "nbconvert_exporter": "python",
   "pygments_lexer": "ipython3",
   "version": "3.9.13"
  }
 },
 "nbformat": 4,
 "nbformat_minor": 5
}
