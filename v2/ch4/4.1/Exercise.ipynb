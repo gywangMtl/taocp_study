{
 "cells": [
  {
   "cell_type": "markdown",
   "id": "d57c9ceb-6788-4f06-a1e8-619fa0742fe1",
   "metadata": {},
   "source": [
    "1. Express $-10,-9, \\ldots,9, 10$ in the number system whose radix is $-2$"
   ]
  },
  {
   "cell_type": "markdown",
   "id": "a0cfb544-e086-43e1-be97-73d355f20db9",
   "metadata": {},
   "source": [
    "$-10 = -8+-2 = (-2)^3+(-2)^1 = (1010)_{-2}$ <br>\n",
    "$-9 = -8+-2+1 = (-2)^3+(-2)^1+2^0 = (1011)_{-2}$ <br>\n",
    "$-8=(1000)_{-2}$ <br>\n",
    "$-7= -8+1=(1001)_{-2}$ <br>\n",
    "$-6=-10+4 =-8+4+-2=(1110)_{-2}$<br> \n",
    "$-5 = (1111)_{-2}$<br>\n",
    "$-4=-8+4=(1100)_{-2}$<br>\n",
    "$-3=(1101)_{-2}$<br>\n",
    "$-2=(10)_{-2}$<br>\n",
    "$-1=(11)_{-2}$<br>\n",
    "$0=0$<br>\n",
    "$1=(1)_{2}$<br>\n",
    "$2=4+-2=(110)_{2}$<br>\n",
    "$3=(111)_{2}$<br>\n",
    "$4=(100)_{2}$<br>\n",
    "$5=(101)_{2}$<br>\n",
    "$6=16-8-2=(11010)_{-2}$<br>\n",
    "$7=(11011)_{-2}$<br>\n",
    "$8=(11000)_{-2}$<br>\n",
    "$9=(11001)_{2}$<br>\n",
    "$10=(11110)_{2}$<br>"
   ]
  },
  {
   "cell_type": "code",
   "execution_count": 3,
   "id": "559e59c0-c5ca-4269-b5ed-a6905a142ca2",
   "metadata": {},
   "outputs": [
    {
     "name": "stdout",
     "output_type": "stream",
     "text": [
      "-10=(1010)_(-2)\n",
      "-9=(1011)_(-2)\n",
      "-8=(1000)_(-2)\n",
      "-7=(1001)_(-2)\n",
      "-6=(1110)_(-2)\n",
      "-5=(1111)_(-2)\n",
      "-4=(1100)_(-2)\n",
      "-3=(1101)_(-2)\n",
      "-2=(10)_(-2)\n",
      "-1=(11)_(-2)\n",
      "0=(0)_(-2)\n",
      "1=(1)_(-2)\n",
      "2=(110)_(-2)\n",
      "3=(111)_(-2)\n",
      "4=(100)_(-2)\n",
      "5=(101)_(-2)\n",
      "6=(11010)_(-2)\n",
      "7=(11011)_(-2)\n",
      "8=(11000)_(-2)\n",
      "9=(11001)_(-2)\n",
      "10=(11110)_(-2)\n"
     ]
    }
   ],
   "source": [
    "def rad_neg_2(n:int)->str:\n",
    "    if n == 0:\n",
    "        return '0'\n",
    "    if n == 1:\n",
    "        return '1'\n",
    "    if (n % 2) == 0:\n",
    "        return f\"{rad_neg_2(-n/2)}0\"\n",
    "    return f\"{rad_neg_2(-(n-1)/2)}1\"\n",
    "\n",
    "for i in range(-10,10+1):\n",
    "    print (f\"{i}=({rad_neg_2(i)})_(-2)\")"
   ]
  },
  {
   "cell_type": "code",
   "execution_count": 14,
   "id": "0310af58-e7c7-4b87-b498-b69a95a1d231",
   "metadata": {},
   "outputs": [
    {
     "name": "stdout",
     "output_type": "stream",
     "text": [
      "1+1\n",
      "0+1\n",
      "1+1\n",
      "11000\n"
     ]
    }
   ],
   "source": [
    "def add_neg_2_base(a:str, b:str)->str:\n",
    "    if len(a)<len(b):\n",
    "        t = a\n",
    "        a = b\n",
    "        b = t\n",
    "    b = '0'*(len(a)-len(b))+b\n",
    "    n = len(a)\n",
    "    i = n-1\n",
    "    carry = 0\n",
    "    c = \"\"\n",
    "    while i>=0:\n",
    "        a_dig = int(a[i])\n",
    "        b_dig = int(b[i])\n",
    "        c_dig = a_dig+b_dig-carry\n",
    "        if c_dig == 2:\n",
    "            c_dig = '0'\n",
    "            carry = 1\n",
    "        elif c_dig == -1:\n",
    "            c_dig = '1'\n",
    "            carry= -1\n",
    "        else:\n",
    "            c_dig = str(c_dig)\n",
    "            carry = 0\n",
    "        c = f\"{c_dig}{c}\"\n",
    "        print (f\"{a_dig}+{b_dig}\")\n",
    "        i = i-1\n",
    "    if carry == 1:\n",
    "        c = f\"11{c}\"\n",
    "    elif carry == -1:\n",
    "        c = f\"1{c}\"\n",
    "    return c\n",
    "print (add_neg_2_base(\"101\",\"111\"))"
   ]
  },
  {
   "cell_type": "code",
   "execution_count": null,
   "id": "a5b43e3a-8de6-4959-bde1-86a6b1a50fe9",
   "metadata": {},
   "outputs": [],
   "source": []
  }
 ],
 "metadata": {
  "kernelspec": {
   "display_name": "Python 3 (ipykernel)",
   "language": "python",
   "name": "python3"
  },
  "language_info": {
   "codemirror_mode": {
    "name": "ipython",
    "version": 3
   },
   "file_extension": ".py",
   "mimetype": "text/x-python",
   "name": "python",
   "nbconvert_exporter": "python",
   "pygments_lexer": "ipython3",
   "version": "3.13.3"
  }
 },
 "nbformat": 4,
 "nbformat_minor": 5
}
