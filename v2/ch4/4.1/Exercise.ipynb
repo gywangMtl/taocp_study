{
 "cells": [
  {
   "cell_type": "markdown",
   "id": "d57c9ceb-6788-4f06-a1e8-619fa0742fe1",
   "metadata": {},
   "source": [
    "1. Express $-10,-9, \\ldots,9, 10$ in the number system whose radix is $-2$"
   ]
  },
  {
   "cell_type": "markdown",
   "id": "a0cfb544-e086-43e1-be97-73d355f20db9",
   "metadata": {},
   "source": [
    "$-10 = -8+-2 = (-2)^3+(-2)^1 = (1010)_{-2}$ <br>\n",
    "$-9 = -8+-2+1 = (-2)^3+(-2)^1+2^0 = (1011)_{-2}$ <br>\n",
    "$-8=(1000)_{-2}$ <br>\n",
    "$-7= -8+1=(1001)_{-2}$ <br>\n",
    "$-6=-10+4 =-8+4+-2=(1110)_{-2}$<br> \n",
    "$-5 = (1111)_{-2}$<br>\n",
    "$-4=-8+4=(1100)_{-2}$<br>\n",
    "$-3=(1101)_{-2}$<br>\n",
    "$-2=(10)_{-2}$<br>\n",
    "$-1=(11)_{-2}$<br>\n",
    "$0=0$<br>\n",
    "$1=(1)_{2}$<br>\n",
    "$2=4+-2=(110)_{2}$<br>\n",
    "$3=(111)_{2}$<br>\n",
    "$4=(100)_{2}$<br>\n",
    "$5=(101)_{2}$<br>\n",
    "$6=16-8-2=(11010)_{-2}$<br>\n",
    "$7=(11011)_{-2}$<br>\n",
    "$8=(11000)_{-2}$<br>\n",
    "$9=(11001)_{2}$<br>\n",
    "$10=(11110)_{2}$<br>"
   ]
  },
  {
   "cell_type": "code",
   "execution_count": 3,
   "id": "559e59c0-c5ca-4269-b5ed-a6905a142ca2",
   "metadata": {},
   "outputs": [
    {
     "name": "stdout",
     "output_type": "stream",
     "text": [
      "-10=(1010)_(-2)\n",
      "-9=(1011)_(-2)\n",
      "-8=(1000)_(-2)\n",
      "-7=(1001)_(-2)\n",
      "-6=(1110)_(-2)\n",
      "-5=(1111)_(-2)\n",
      "-4=(1100)_(-2)\n",
      "-3=(1101)_(-2)\n",
      "-2=(10)_(-2)\n",
      "-1=(11)_(-2)\n",
      "0=(0)_(-2)\n",
      "1=(1)_(-2)\n",
      "2=(110)_(-2)\n",
      "3=(111)_(-2)\n",
      "4=(100)_(-2)\n",
      "5=(101)_(-2)\n",
      "6=(11010)_(-2)\n",
      "7=(11011)_(-2)\n",
      "8=(11000)_(-2)\n",
      "9=(11001)_(-2)\n",
      "10=(11110)_(-2)\n"
     ]
    }
   ],
   "source": [
    "def rad_neg_2(n:int)->str:\n",
    "    radix = -2\n",
    "    if n in (0,1):\n",
    "        return str(n)\n",
    "    digit= abs(n % radix)\n",
    "    next_n = (n - digit) // radix\n",
    "    return f\"{rad_neg_2(next_n)}{digit}\"\n",
    "\n",
    "for i in range(-10,10+1):\n",
    "    print (f\"{i}=({rad_neg_2(i)})_(-2)\")"
   ]
  },
  {
   "cell_type": "code",
   "execution_count": 2,
   "id": "0310af58-e7c7-4b87-b498-b69a95a1d231",
   "metadata": {},
   "outputs": [
    {
     "name": "stdout",
     "output_type": "stream",
     "text": [
      "11000\n"
     ]
    }
   ],
   "source": [
    "def add_neg_2_base(a:str, b:str)->str:\n",
    "    if len(a)<len(b):\n",
    "        t = a\n",
    "        a = b\n",
    "        b = t\n",
    "    b = '0'*(len(a)-len(b))+b\n",
    "    n = len(a)\n",
    "    i = n-1\n",
    "    carry = 0\n",
    "    c = \"\"\n",
    "    while i>=0:\n",
    "        a_dig = int(a[i])\n",
    "        b_dig = int(b[i])\n",
    "        c_dig = a_dig+b_dig-carry\n",
    "        if c_dig == 2:\n",
    "            c_dig = '0'\n",
    "            carry = 1\n",
    "        elif c_dig == -1:\n",
    "            c_dig = '1'\n",
    "            carry= -1\n",
    "        else:\n",
    "            c_dig = str(c_dig)\n",
    "            carry = 0\n",
    "        c = f\"{c_dig}{c}\"\n",
    "        i = i-1\n",
    "    if carry == 1:\n",
    "        c = f\"11{c}\"\n",
    "    elif carry == -1:\n",
    "        c = f\"1{c}\"\n",
    "    return c\n",
    "print (add_neg_2_base(\"101\",\"111\"))"
   ]
  },
  {
   "cell_type": "markdown",
   "id": "6c594616-2978-4adb-88ea-01203783ee28",
   "metadata": {},
   "source": [
    "2. Consider the following 4 number systems, (a) binary (b) negabinary (c) balanced ternary and (d) radix b= $\\frac{1}{10}$, use each of these four number systems to express each of the following three numbers: <br>\n",
    "    i) -49 <br>\n",
    "    ii) $-3\\frac{1}{7}$ <br>\n",
    "    iii) $\\pi$"
   ]
  },
  {
   "cell_type": "markdown",
   "id": "e91cfb09-2d7e-49a1-bea5-68751353ec30",
   "metadata": {},
   "source": [
    "i) $-49=(-110001)_{2}=(11010011)_{-2}=(\\bar{1}11\\bar{1}\\bar{1})_{3}=-(0.94)_{\\frac{1}{10}}$ <br>\n",
    "ii) $-3\\frac{1}{7}=(-11.\\dot{0}0\\dot{1})_{2}=(1101.\\dot{0}1100\\dot{1})_{-2}=(\\bar{1}0.\\dot{0}\\bar{1}\\bar{1}01\\dot{1})_{3}=-(\\dot{7}5824\\bar{1}.3)_{\\frac{1}{10}}$\n",
    "\n",
    "(because $-\\frac{1}{7} \\cdot 64 = -(9+\\frac{1}{7})$, so move the dot to the right for 6 positions keeps the part after the point the same but generate a -9 before the dot)\n",
    "\n",
    "iii) $\\pi = (11.00100100001111110110\\ldots)_{2} = (111.01100100010000001010\\ldots)_{-2}$"
   ]
  },
  {
   "cell_type": "code",
   "execution_count": 1,
   "id": "0415de4c-1369-4c09-80ef-3ecc3bec1bce",
   "metadata": {},
   "outputs": [
    {
     "data": {
      "text/plain": [
       "148470.6583305709"
      ]
     },
     "execution_count": 1,
     "metadata": {},
     "output_type": "execute_result"
    }
   ],
   "source": [
    "import math\n",
    "(math.pi-3)*2**20"
   ]
  },
  {
   "cell_type": "code",
   "execution_count": 7,
   "id": "6669997c-cea5-460c-be94-5b8c8a9eddf6",
   "metadata": {},
   "outputs": [
    {
     "name": "stdout",
     "output_type": "stream",
     "text": [
      "0b100100001111110110\n"
     ]
    }
   ],
   "source": [
    "print(bin(148470))"
   ]
  },
  {
   "cell_type": "code",
   "execution_count": 5,
   "id": "9b28e613-3153-4510-99b4-0049dda3fe01",
   "metadata": {},
   "outputs": [
    {
     "name": "stdout",
     "output_type": "stream",
     "text": [
      "19\n"
     ]
    }
   ],
   "source": [
    "print(len(rad_neg_2(148470)))"
   ]
  },
  {
   "cell_type": "code",
   "execution_count": null,
   "id": "4ffbbb5b-2a97-4b36-b361-07eca62b0448",
   "metadata": {},
   "outputs": [],
   "source": []
  }
 ],
 "metadata": {
  "kernelspec": {
   "display_name": "Python 3 (ipykernel)",
   "language": "python",
   "name": "python3"
  },
  "language_info": {
   "codemirror_mode": {
    "name": "ipython",
    "version": 3
   },
   "file_extension": ".py",
   "mimetype": "text/x-python",
   "name": "python",
   "nbconvert_exporter": "python",
   "pygments_lexer": "ipython3",
   "version": "3.13.3"
  }
 },
 "nbformat": 4,
 "nbformat_minor": 5
}
