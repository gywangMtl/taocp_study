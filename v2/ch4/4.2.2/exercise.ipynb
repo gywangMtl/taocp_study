{
 "cells": [
  {
   "cell_type": "markdown",
   "id": "e78ace00-5b1a-48c5-b01a-71422ac78809",
   "metadata": {},
   "source": [
    "Prove that identity (7) is a consequence of (2) through (6)\n",
    "\n",
    "$u \\ominus v = u \\oplus -v = -v \\oplus u = -(v \\oplus -u) =-(v \\ominus u)$\n",
    "\n",
    "rules used (3),(2),(4),(3)"
   ]
  },
  {
   "cell_type": "code",
   "execution_count": null,
   "id": "d42a7591-53bb-4412-a1d4-309ff8b18d64",
   "metadata": {},
   "outputs": [],
   "source": []
  }
 ],
 "metadata": {
  "kernelspec": {
   "display_name": "Python 3 (ipykernel)",
   "language": "python",
   "name": "python3"
  },
  "language_info": {
   "codemirror_mode": {
    "name": "ipython",
    "version": 3
   },
   "file_extension": ".py",
   "mimetype": "text/x-python",
   "name": "python",
   "nbconvert_exporter": "python",
   "pygments_lexer": "ipython3",
   "version": "3.13.3"
  }
 },
 "nbformat": 4,
 "nbformat_minor": 5
}
