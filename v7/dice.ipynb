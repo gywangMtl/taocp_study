{
 "cells": [
  {
   "cell_type": "code",
   "execution_count": 6,
   "id": "1b57a19c",
   "metadata": {},
   "outputs": [
    {
     "name": "stdout",
     "output_type": "stream",
     "text": [
      "0.5833333333333334\n",
      "True\n",
      "0.5833333333333334\n",
      "True\n",
      "0.5833333333333334\n",
      "True\n"
     ]
    }
   ],
   "source": [
    "def compare(die1, die2, threshold=0.5):\n",
    "    greater = 0\n",
    "    for i in die1:\n",
    "        for j in die2:\n",
    "            if i > j:\n",
    "                greater += 1\n",
    "    print(greater / (len(die1) * len(die2)))\n",
    "    return (greater / (len(die1) * len(die2)) > threshold)\n",
    "    \n",
    "\n",
    "die1 = [2, 5, 5, 5, 5, 5]\n",
    "die2 = [1, 4, 4, 4, 7, 7]\n",
    "die3 = [3, 3, 3, 6, 6, 6]\n",
    "print(compare(die1, die2))\n",
    "print(compare(die2, die3))\n",
    "print(compare(die3, die1))\n"
   ]
  }
 ],
 "metadata": {
  "kernelspec": {
   "display_name": "Python 3",
   "language": "python",
   "name": "python3"
  },
  "language_info": {
   "codemirror_mode": {
    "name": "ipython",
    "version": 3
   },
   "file_extension": ".py",
   "mimetype": "text/x-python",
   "name": "python",
   "nbconvert_exporter": "python",
   "pygments_lexer": "ipython3",
   "version": "3.13.3"
  }
 },
 "nbformat": 4,
 "nbformat_minor": 5
}
