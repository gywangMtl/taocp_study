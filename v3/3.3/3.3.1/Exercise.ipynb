{
 "cells": [
  {
   "cell_type": "markdown",
   "id": "44b0e899",
   "metadata": {},
   "source": [
    "1. What line of the chi-square table should be used to check whether or not the value $V= 7\\frac{7}{48}$ of Eq.(5) is improbably high?\n",
    "\n",
    "Ans: Line  $𝑣=𝑘−1=10$\n"
   ]
  },
  {
   "cell_type": "markdown",
   "id": "dc061ebf",
   "metadata": {},
   "source": []
  },
  {
   "cell_type": "code",
   "execution_count": null,
   "id": "e4b8b048",
   "metadata": {},
   "outputs": [],
   "source": []
  }
 ],
 "metadata": {
  "kernelspec": {
   "display_name": "Python 3 (ipykernel)",
   "language": "python",
   "name": "python3"
  },
  "language_info": {
   "codemirror_mode": {
    "name": "ipython",
    "version": 3
   },
   "file_extension": ".py",
   "mimetype": "text/x-python",
   "name": "python",
   "nbconvert_exporter": "python",
   "pygments_lexer": "ipython3",
   "version": "3.9.13"
  }
 },
 "nbformat": 4,
 "nbformat_minor": 5
}
