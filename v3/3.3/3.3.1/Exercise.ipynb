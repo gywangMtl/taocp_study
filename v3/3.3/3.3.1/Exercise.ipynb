{
 "cells": [
  {
   "cell_type": "markdown",
   "id": "44b0e899",
   "metadata": {},
   "source": [
    "1. What line of the chi-square table should be used to check whether or not the value $V= 7\\frac{7}{48}$ of Eq.(5) is improbably high?\n",
    "\n",
    "Ans: Line  $𝑣=𝑘−1=10$\n"
   ]
  },
  {
   "cell_type": "markdown",
   "id": "dc061ebf",
   "metadata": {},
   "source": [
    "2. if two dice are \"loade\" so that, on one die, the values 1 will turn up exactly twice as often as any of the other values, and the other die is similarly biased towards 6, compute the probality $p_s$ that a total of exactly $s$ will appear on the two dice, for $2 \\le s \\le 12$. "
   ]
  },
  {
   "cell_type": "code",
   "execution_count": null,
   "id": "e4b8b048",
   "metadata": {},
   "outputs": [],
   "source": [
    "sum = [0]*13\n",
    "total=0\n",
    "for i in range(1,7):\n",
    "    p1 = 2 if i==1 else 1\n",
    "    for j in range(1,7):\n",
    "        p2 = 2 if j == 6 else 1\n",
    "        s = i + j\n",
    "        sum[s]=sum[s]+(p1*p2)\n",
    "        total += p1*p2\n",
    "p = [f\"{s}/{total}\" for s in sum]\n",
    "print(p[2:])"
   ]
  },
  {
   "cell_type": "code",
   "execution_count": null,
   "id": "14d47d59",
   "metadata": {},
   "outputs": [],
   "source": []
  }
 ],
 "metadata": {
  "kernelspec": {
   "display_name": "Python 3 (ipykernel)",
   "language": "python",
   "name": "python3"
  },
  "language_info": {
   "codemirror_mode": {
    "name": "ipython",
    "version": 3
   },
   "file_extension": ".py",
   "mimetype": "text/x-python",
   "name": "python",
   "nbconvert_exporter": "python",
   "pygments_lexer": "ipython3",
   "version": "3.9.13"
  }
 },
 "nbformat": 4,
 "nbformat_minor": 5
}
