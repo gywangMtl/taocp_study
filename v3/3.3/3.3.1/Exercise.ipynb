{
 "cells": [
  {
   "cell_type": "markdown",
   "id": "44b0e899",
   "metadata": {},
   "source": [
    "1. What line of the chi-square table should be used to check whether or not the value $V= 7\\frac{7}{48}$ of Eq.(5) is improbably high?\n",
    "\n",
    "Ans: Line  $𝑣=𝑘−1=10$\n"
   ]
  },
  {
   "cell_type": "markdown",
   "id": "dc061ebf",
   "metadata": {},
   "source": [
    "2. if two dice are \"loade\" so that, on one die, the values 1 will turn up exactly twice as often as any of the other values, and the other die is similarly biased towards 6, compute the probality $p_s$ that a total of exactly $s$ will appear on the two dice, for $2 \\le s \\le 12$. "
   ]
  },
  {
   "cell_type": "code",
   "execution_count": 1,
   "id": "e4b8b048",
   "metadata": {},
   "outputs": [
    {
     "name": "stdout",
     "output_type": "stream",
     "text": [
      "['2/49', '3/49', '4/49', '5/49', '6/49', '9/49', '6/49', '5/49', '4/49', '3/49', '2/49']\n"
     ]
    }
   ],
   "source": [
    "sum = [0]*13\n",
    "total=0\n",
    "for i in range(1,7):\n",
    "    p1 = 2 if i==1 else 1\n",
    "    for j in range(1,7):\n",
    "        p2 = 2 if j == 6 else 1\n",
    "        s = i + j\n",
    "        sum[s]=sum[s]+(p1*p2)\n",
    "        total += p1*p2\n",
    "p = [f\"{s}/{total}\" for s in sum]\n",
    "print(p[2:])"
   ]
  },
  {
   "cell_type": "markdown",
   "id": "b2ddb2d6",
   "metadata": {},
   "source": [
    "3. Some dice that were loaded as described in the previous exervise were rolled 144 times, and the following values were observered:\n",
    "\n",
    "    | value of $s$ |2|3|4|5|6|7|8|9|10|11|12| \n",
    "    |--------------|-|-|-|-|-|-|-|-|--|-|--| \n",
    "    |observed number, $Y_s$ |2|6|10|16|18|32|20|13|16|9|2|\n",
    "    \n",
    "Apply the chi-square test to *these* values, using the probablities in (1), presenting that the dice are not in fact known to be faulty. Does the chi-square test detect the bad dice? If not, explain why not.\n"
   ]
  },
  {
   "cell_type": "code",
   "execution_count": 2,
   "id": "9f9addfd",
   "metadata": {},
   "outputs": [
    {
     "name": "stdout",
     "output_type": "stream",
     "text": [
      "[0.027777777777777776, 0.05555555555555555, 0.08333333333333333, 0.1111111111111111, 0.1388888888888889, 0.16666666666666666, 0.1388888888888889, 0.1111111111111111, 0.08333333333333333, 0.05555555555555555, 0.027777777777777776]\n",
      "V = 7.720833333333331\n"
     ]
    }
   ],
   "source": [
    "y_exp = [2,6,10,16,18,32,20,13,16,9,2]\n",
    "ps = [i/36 if i<=6 else (12-i)/36 for i in range(1,12)]\n",
    "print(ps)\n",
    "v = 0\n",
    "n = 0\n",
    "for i in range(0,11):\n",
    "    n += y_exp[i]\n",
    "    v += y_exp[i]*y_exp[i]/ps[i]\n",
    "v = v/n -n\n",
    "print(f\"V = {v}\")\n"
   ]
  },
  {
   "cell_type": "markdown",
   "id": "9d1ecee5",
   "metadata": {},
   "source": [
    "from table 1, row v=10 this $V$ value is between $p=25\\%$ and $p=50\\%$ which is not in reject zone "
   ]
  },
  {
   "cell_type": "code",
   "execution_count": null,
   "id": "18827b82",
   "metadata": {},
   "outputs": [],
   "source": []
  }
 ],
 "metadata": {
  "kernelspec": {
   "display_name": "Python 3 (ipykernel)",
   "language": "python",
   "name": "python3"
  },
  "language_info": {
   "codemirror_mode": {
    "name": "ipython",
    "version": 3
   },
   "file_extension": ".py",
   "mimetype": "text/x-python",
   "name": "python",
   "nbconvert_exporter": "python",
   "pygments_lexer": "ipython3",
   "version": "3.9.13"
  }
 },
 "nbformat": 4,
 "nbformat_minor": 5
}
